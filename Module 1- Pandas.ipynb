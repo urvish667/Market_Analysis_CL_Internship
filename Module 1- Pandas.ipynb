{
 "cells": [
  {
   "cell_type": "markdown",
   "metadata": {},
   "source": [
    "# Module 1"
   ]
  },
  {
   "cell_type": "markdown",
   "metadata": {},
   "source": [
    "   ### Welcome to the Answer notebook for Module 1 ! \n",
    "These notebooks have been provided to code and solve all the queries asked in the modules.\n",
    "\n",
    "This environment has all the necessary libraries pre-installed, and all the Stock, Commodities and Index data files available at the following location - \n",
    "\n"
   ]
  },
  {
   "cell_type": "markdown",
   "metadata": {},
   "source": [
    "#### The problem statements and their corresponding answers are expected to be in the following format - \n",
    "\n"
   ]
  },
  {
   "cell_type": "markdown",
   "metadata": {},
   "source": [
    "#--------------------------------------------------------------------------------------------------------------------------------------------------------------------------------------------------------#"
   ]
  },
  {
   "cell_type": "markdown",
   "metadata": {},
   "source": [
    "### Query 1.1 \n",
    "Import the csv file of the stock of your choosing using 'pd.read_csv()' function into a dataframe.\n",
    "Shares of a company can be offered in more than one category. The category of a stock is indicated in the ‘Series’ column. If the csv file has data on more than one category, the ‘Date’ column will have repeating values. To avoid repetitions in the date, remove all the rows where 'Series' column is NOT 'EQ'.\n",
    "Analyze and understand each column properly.\n",
    "You'd find the head(), tail() and describe() functions to be immensely useful for exploration. You're free to carry out any other exploration of your own."
   ]
  },
  {
   "cell_type": "code",
   "execution_count": 11,
   "metadata": {},
   "outputs": [],
   "source": [
    "#The solution code should start right after the query statement, for example -\n",
    "import numpy as np \n",
    "import pandas as pd\n",
    "import warnings\n",
    "warnings.filterwarnings('ignore')\n",
    "#And solve the query"
   ]
  },
  {
   "cell_type": "code",
   "execution_count": 39,
   "metadata": {},
   "outputs": [],
   "source": [
    "# Once the solution of the first query is written, it should immediately be followed by the next query\n",
    "df = pd.read_csv('EICHERMOT.csv')\n",
    "#df.describe()\n",
    "df = df[df.Series == 'EQ']"
   ]
  },
  {
   "cell_type": "markdown",
   "metadata": {},
   "source": [
    "### Query 1.2\n",
    "Calculate the maximum, minimum and mean price for the last 90 days. (price=Closing Price unless stated otherwise)"
   ]
  },
  {
   "cell_type": "code",
   "execution_count": 40,
   "metadata": {},
   "outputs": [],
   "source": [
    "df_90 = df['Close Price'].iloc[-90:]\n",
    "maximum = df_90.max()\n",
    "minimum = df_90.min()\n",
    "mean = df_90.mean()"
   ]
  },
  {
   "cell_type": "markdown",
   "metadata": {},
   "source": [
    "**This is the expected format of the answer notebook**"
   ]
  },
  {
   "cell_type": "code",
   "execution_count": 41,
   "metadata": {},
   "outputs": [],
   "source": [
    "#So remove the comments and start coding !\n",
    "df['Date'] = pd.to_datetime(df['Date'])\n",
    "\n",
    "min_date = df['Date'].min()\n",
    "max_date = df['Date'].max()\n",
    "ran = max_date - min_date"
   ]
  },
  {
   "cell_type": "code",
   "execution_count": 43,
   "metadata": {},
   "outputs": [],
   "source": [
    "df['Month'] = pd.DatetimeIndex(df['Date']).month\n",
    "df['Year'] = pd.DatetimeIndex(df['Date']).year\n",
    "group = df.groupby(['Month', 'Year'])\n",
    "df['VWAP'] = (np.cumsum(df['Close Price'] * df['Total Traded Quantity']) / np.cumsum(df['Total Traded Quantity']))"
   ]
  },
  {
   "cell_type": "code",
   "execution_count": 51,
   "metadata": {},
   "outputs": [
    {
     "name": "stdout",
     "output_type": "stream",
     "text": [
      "Average prices for last N days are as follows:\n",
      "Last 1 week 20031.28\n",
      "Last 2 weeks 20212.269999999997\n",
      "Last 1 month 20533.482500000002\n",
      "Last 3 months 20868.596666666668\n",
      "Last 6 months 21422.417083333316\n",
      "Last 1 year 24178.674583333355\n",
      "Last 1 week 8.540269574839686\n",
      "Last 2 weeks 8.420014132014353\n",
      "Last 1 month 11.849560707667283\n",
      "Last 3 months 10.67313717386378\n",
      "Last 6 months 27.696614982601613\n",
      "Last 1 year 59.609369792152734\n"
     ]
    }
   ],
   "source": [
    "def avgPrice(N):\n",
    "    res =  df['Close Price'].iloc[-N:]\n",
    "    return res.mean()\n",
    "print(\"Average prices for last N days are as follows:\")\n",
    "print(\"Last 1 week\",avgPrice(5))\n",
    "print(\"Last 2 weeks\",avgPrice(10))\n",
    "print(\"Last 1 month\",avgPrice(20))\n",
    "print(\"Last 3 months\",avgPrice(60))\n",
    "print(\"Last 6 months\",avgPrice(120))\n",
    "print(\"Last 1 year\",avgPrice(240))\n",
    "\n",
    "def profLoss(N):\n",
    "    dif = (df['Close Price'].tail(N).iloc[N-1] - df['Close Price'].tail(N).iloc[0])\n",
    "    if dif < 0 :\n",
    "        loss = -(dif)\n",
    "        loss_value = (loss/df['Close Price'].tail(N).iloc[N-1])*100\n",
    "        return loss_value\n",
    "    if difference > 0 :\n",
    "        profit = dif\n",
    "        profit_value = (profit/data['Close Price'].tail(N).iloc[N-1])*100\n",
    "        return profit_value\n",
    "\n",
    "print(\"Last 1 week\",profLoss(5))\n",
    "print(\"Last 2 weeks\",profLoss(10))\n",
    "print(\"Last 1 month\",profLoss(20))\n",
    "print(\"Last 3 months\",profLoss(60))\n",
    "print(\"Last 6 months\",profLoss(120))\n",
    "print(\"Last 1 year\",profLoss(240))"
   ]
  },
  {
   "cell_type": "code",
   "execution_count": 53,
   "metadata": {},
   "outputs": [],
   "source": [
    "df['Day_Perc_Change'] = df['Close Price'].pct_change().fillna(0)"
   ]
  },
  {
   "cell_type": "code",
   "execution_count": 54,
   "metadata": {},
   "outputs": [],
   "source": [
    "if ((df['Day_Perc_Change'] >= -0.5) & (df['Day_Perc_Change'] <= 0.5)).all():\n",
    "    df['Trend'] = 'Slight or No change'\n",
    "if ((df['Day_Perc_Change'] >= 0.5) & (df['Day_Perc_Change'] <= 1)).all():\n",
    "    df['Trend'] = 'Slight positive'\n",
    "if ((df['Day_Perc_Change'] <= -0.5) & (df['Day_Perc_Change'] >= -1)).all():\n",
    "    df['Trend'] = 'Slight negative'\n",
    "if ((df['Day_Perc_Change'] >= 1) & (df['Day_Perc_Change'] <= 3)).all():\n",
    "    df['Trend'] = 'Positive' \n",
    "if ((df['Day_Perc_Change'] <= -1) & (df['Day_Perc_Change'] >= -3)).all():\n",
    "    df['Trend'] = 'Negative'\n",
    "if ((df['Day_Perc_Change'] >= 3) & (df['Day_Perc_Change'] <= 7)).all():\n",
    "    df['Trend'] = 'Among top gainers'\n",
    "if ((df['Day_Perc_Change'] <= -3) & (df['Day_Perc_Change'] >= -7)).all():\n",
    "    df['Trend'] = 'Among top losers'\n",
    "if (df['Day_Perc_Change'] > 7).all():\n",
    "    df['Trend'] = 'Bull run' \n",
    "if (df['Day_Perc_Change'] < -7).all():\n",
    "    df['Trend'] = 'Bear drop'"
   ]
  },
  {
   "cell_type": "code",
   "execution_count": 56,
   "metadata": {},
   "outputs": [
    {
     "data": {
      "text/plain": [
       "Trend\n",
       "Slight or No change    46515.5\n",
       "Name: Total Traded Quantity, dtype: float64"
      ]
     },
     "execution_count": 56,
     "metadata": {},
     "output_type": "execute_result"
    }
   ],
   "source": [
    "df.groupby(df.Trend).mean()['Total Traded Quantity']\n",
    "df.groupby(df.Trend).median()['Total Traded Quantity']"
   ]
  },
  {
   "cell_type": "code",
   "execution_count": 58,
   "metadata": {},
   "outputs": [],
   "source": [
    "df.to_csv('week2.csv')"
   ]
  },
  {
   "cell_type": "code",
   "execution_count": null,
   "metadata": {},
   "outputs": [],
   "source": []
  }
 ],
 "metadata": {
  "kernelspec": {
   "display_name": "Python 3",
   "language": "python",
   "name": "python3"
  },
  "language_info": {
   "codemirror_mode": {
    "name": "ipython",
    "version": 3
   },
   "file_extension": ".py",
   "mimetype": "text/x-python",
   "name": "python",
   "nbconvert_exporter": "python",
   "pygments_lexer": "ipython3",
   "version": "3.6.5"
  }
 },
 "nbformat": 4,
 "nbformat_minor": 2
}
