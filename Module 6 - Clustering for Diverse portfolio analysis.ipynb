{
 "cells": [
  {
   "cell_type": "markdown",
   "metadata": {},
   "source": [
    "# Module 6 - Clustering for Diverse portfolio analysis"
   ]
  },
  {
   "cell_type": "markdown",
   "metadata": {},
   "source": [
    "   ### Welcome to the Answer notebook for Module 6 ! \n",
    "Make sure that you've submitted the module 5 notebook and unlocked Module 6 yourself before you start coding here\n"
   ]
  },
  {
   "cell_type": "markdown",
   "metadata": {},
   "source": [
    "#--------------------------------------------------------------------------------------------------------------------------------------------------------------------------------------------------------#"
   ]
  },
  {
   "cell_type": "markdown",
   "metadata": {},
   "source": [
    "### Query 6.1 \n",
    "Create a table/dataframe with the closing prices of 30 different stocks, with 10 from each of the caps"
   ]
  },
  {
   "cell_type": "code",
   "execution_count": 1,
   "metadata": {},
   "outputs": [],
   "source": [
    "import pandas as pd\n",
    "import numpy as np\n",
    "import matplotlib as mlt"
   ]
  },
  {
   "cell_type": "code",
   "execution_count": 2,
   "metadata": {},
   "outputs": [],
   "source": [
    "adaniports = pd.read_csv(\"ADANIPORTS.csv\")\n",
    "adanipower = pd.read_csv(\"ADANIPOWER.csv\")\n",
    "ajantpharm = pd.read_csv(\"AJANTPHARM.csv\")\n",
    "amarajabat = pd.read_csv(\"AMARAJABAT.csv\")\n",
    "apollotyre = pd.read_csv(\"APOLLOTYRE.csv\")\n",
    "ashoka = pd.read_csv(\"ASHOKA.csv\")\n",
    "asianpaint = pd.read_csv(\"ASIANPAINT.csv\")\n",
    "axisbank = pd.read_csv(\"AXISBANK.csv\")\n",
    "bajajelec = pd.read_csv(\"BAJAJELEC.csv\")\n",
    "bajfinance = pd.read_csv(\"BAJFINANCE.csv\")\n",
    "bergepaint = pd.read_csv(\"BERGEPAINT.csv\")\n",
    "bomdyeing = pd.read_csv(\"BOMDYEING.csv\")\n",
    "bpcl = pd.read_csv(\"BPCL.csv\")\n",
    "castrolind = pd.read_csv(\"CASTROLIND.csv\")\n",
    "centuryply = pd.read_csv(\"CENTURYPLY.csv\")\n",
    "cipla = pd.read_csv(\"CIPLA.csv\")\n",
    "cumminsind = pd.read_csv(\"CUMMINSIND.csv\")\n",
    "dhfl = pd.read_csv(\"DHFL.csv\")\n",
    "drreddy = pd.read_csv(\"DRREDDY.csv\")\n",
    "eichermot = pd.read_csv(\"EICHERMOT.csv\")\n",
    "exideind = pd.read_csv(\"EXIDEIND.csv\")\n",
    "fortis = pd.read_csv(\"FORTIS.csv\")\n",
    "gail = pd.read_csv(\"GAIL.csv\")\n",
    "gmrinfra = pd.read_csv(\"GMRINFRA.csv\")\n",
    "gujalkali = pd.read_csv(\"GUJALKALI.csv\")\n",
    "hdfc = pd.read_csv(\"HDFC.csv\")\n",
    "idfc = pd.read_csv(\"IDFC.csv\")\n",
    "ircon = pd.read_csv(\"IRCON.csv\")\n",
    "itdc = pd.read_csv(\"ITDC.csv\")\n",
    "jetairways = pd.read_csv(\"JETAIRWAYS.csv\")"
   ]
  },
  {
   "cell_type": "code",
   "execution_count": 13,
   "metadata": {},
   "outputs": [],
   "source": [
    "cols = ['adaniports','adanipower','ajantpharm','amarajabat','apollotyre','ashoka','asianpaint','axisbank','bajajelec','bajfinance','bergepaint','bomdyeing','bpcl','castrolind','centuryply','cipla','cumminsind','dhfl','drreddy','eichermot','exideind','fortis','gail','gmrinfra','gujalkali','hdfc','idfc','ircon','itdc','jetairways']\n",
    "data =  pd.DataFrame(columns = cols)\n",
    "\n",
    "data['adaniports'] = adaniports['Close Price']\n",
    "data['adanipower'] = adanipower['Close Price']\n",
    "data['ajantpharm'] = ajantpharm['Close Price']\n",
    "data['amarajabat'] = amarajabat['Close Price']\n",
    "data['apollotyre'] = apollotyre['Close Price']\n",
    "data['ashoka'] = ashoka['Close Price']\n",
    "data['asianpaint'] = asianpaint['Close Price']\n",
    "data['axisbank'] = axisbank['Close Price']\n",
    "data['bajajelec'] = bajajelec['Close Price']\n",
    "data['bajfinance'] = bajfinance['Close Price']\n",
    "data['bergepaint'] = bergepaint['Close Price']\n",
    "data['bomdyeing'] = bomdyeing['Close Price']\n",
    "data['bpcl'] = bpcl['Close Price']\n",
    "data['castrolind'] = castrolind['Close Price']\n",
    "data['centuryply'] = centuryply['Close Price']\n",
    "data['cipla'] = cipla['Close Price']\n",
    "data['cumminsind'] = cumminsind['Close Price']\n",
    "data['dhfl'] = dhfl['Close Price']\n",
    "data['drreddy'] = drreddy['Close Price']\n",
    "data['eichermot'] = eichermot['Close Price']\n",
    "data['exideind'] = exideind['Close Price']\n",
    "data['fortis'] = fortis['Close Price']\n",
    "data['gail'] = gail['Close Price']\n",
    "data['gmrinfra'] = gmrinfra['Close Price']\n",
    "data['gujalkali'] = gujalkali['Close Price']\n",
    "data['hdfc'] = hdfc['Close Price']\n",
    "data['idfc'] = idfc['Close Price']\n",
    "data['ircon'] = ircon['Close Price']\n",
    "data['itdc'] = itdc['Close Price']\n",
    "data['jetairways'] = jetairways['Close Price']\n"
   ]
  },
  {
   "cell_type": "code",
   "execution_count": 14,
   "metadata": {},
   "outputs": [],
   "source": [
    "from math import sqrt\n",
    "returns = data.pct_change().mean() * 252\n",
    "returns = pd.DataFrame(returns)\n",
    "returns.columns = ['Returns']\n",
    "returns['Volatility'] = data.pct_change().std() * sqrt(252)\n",
    "dt = np.asarray([np.asarray(returns['Returns']),np.asarray(returns['Volatility'])]).T\n",
    "cleaned_data = np.where(np.isnan(dt), 0, dt)"
   ]
  },
  {
   "cell_type": "code",
   "execution_count": 16,
   "metadata": {},
   "outputs": [
    {
     "data": {
      "image/png": "[encoded data removed]",
      "text/plain": [
       "<Figure size 432x288 with 1 Axes>"
      ]
     },
     "metadata": {},
     "output_type": "display_data"
    }
   ],
   "source": [
    "from sklearn.cluster import KMeans\n",
    "from matplotlib import pyplot as plt\n",
    "X = cleaned_data\n",
    "distorsions = []\n",
    "for k in range(2, 20):\n",
    "    k_means = KMeans(n_clusters=k)\n",
    "    k_means.fit(X)\n",
    "    distorsions.append(k_means.inertia_)\n",
    "fig = plt.figure(figsize=(15, 5))\n",
    "plt.plot(range(2, 20), distorsions)\n",
    "plt.grid(True)\n",
    "plt.title('Elbow curve')"
   ]
  },
  {
   "cell_type": "code",
   "execution_count": 18,
   "metadata": {},
   "outputs": [
    {
     "data": {
      "image/png": "[encoded data removed]",
      "text/plain": [
       "<Figure size 432x288 with 1 Axes>"
      ]
     },
     "metadata": {},
     "output_type": "display_data"
    }
   ],
   "source": [
    "from scipy.cluster.vq import kmeans,vq\n",
    "centroids,_ = kmeans(dt,5)"
   ]
  },
  {
   "cell_type": "code",
   "execution_count": 10,
   "metadata": {},
   "outputs": [],
   "source": [
    "\n",
    "idx,_ = vq(dt,centroids)"
   ]
  },
  {
   "cell_type": "code",
   "execution_count": 11,
   "metadata": {},
   "outputs": [
    {
     "data": {
      "image/png": "[encoded data removed]",
      "text/plain": [
       "<Figure size 432x288 with 1 Axes>"
      ]
     },
     "metadata": {},
     "output_type": "display_data"
    }
   ],
   "source": [
    "from pylab import plot,show\n",
    "plt.scatter(X[idx==0,0],X[idx==0,1],s=100,c='red',label='Cluster1',alpha=0.65)\n",
    "plt.scatter(X[idx==1,0],X[idx==1,1],s=100,c='blue',label='Cluster2',alpha=0.65)\n",
    "plt.scatter(X[idx==2,0],X[idx==2,1],s=100,c='green',label='Cluster3',alpha=0.65)\n",
    "plt.scatter(X[idx==3,0],X[idx==3,1],s=100,c='cyan',label='Cluster4',alpha=0.65)\n",
    "plt.scatter(X[idx==4,0],X[idx==4,1],s=100,c='black',label='Cluster5',alpha=0.65)\n",
    "#plt.scatter(k_means.cluster_centers_[:,0],k_means.cluster_centers_[:,1],s=300,c='yellow')\n",
    "plt.scatter(centroids[:,0],centroids[:,1],s=200, c='yellow', alpha = 0.8)\n",
    "plt.legend()\n",
    "plt.show()"
   ]
  },
  {
   "cell_type": "code",
   "execution_count": 62,
   "metadata": {},
   "outputs": [
    {
     "name": "stdout",
     "output_type": "stream",
     "text": [
      "Returns       hdfc\n",
      "Volatility    hdfc\n",
      "dtype: object\n"
     ]
    }
   ],
   "source": [
    "print(returns.idxmax())"
   ]
  },
  {
   "cell_type": "code",
   "execution_count": 63,
   "metadata": {},
   "outputs": [],
   "source": [
    "returns.drop('hdfc',inplace=True)\n",
    "#recreate data to feed into the algorithm\n",
    "dt = np.asarray([np.asarray(returns['Returns']),np.asarray(returns['Volatility'])]).T"
   ]
  },
  {
   "cell_type": "code",
   "execution_count": 64,
   "metadata": {},
   "outputs": [
    {
     "data": {
      "image/png": "[encoded data removed]",
      "text/plain": [
       "<Figure size 432x288 with 1 Axes>"
      ]
     },
     "metadata": {},
     "output_type": "display_data"
    }
   ],
   "source": [
    "centroids,_ = kmeans(dt,5)\n",
    "# assign each sample to a cluster\n",
    "idx,_ = vq(dt,centroids)\n",
    "# some plotting using numpy's logical indexing\n",
    "plot(dt[idx==0,0],dt[idx==0,1],'ob',\n",
    "     dt[idx==1,0],dt[idx==1,1],'oy',\n",
    "     dt[idx==2,0],dt[idx==2,1],'or',\n",
    "     dt[idx==3,0],dt[idx==3,1],'og',\n",
    "     dt[idx==4,0],dt[idx==4,1],'om')\n",
    "plot(centroids[:,0],centroids[:,1],'sg',markersize=8)\n",
    "show()"
   ]
  },
  {
   "cell_type": "code",
   "execution_count": null,
   "metadata": {},
   "outputs": [],
   "source": []
  }
 ],
 "metadata": {
  "kernelspec": {
   "display_name": "Python 3",
   "language": "python",
   "name": "python3"
  },
  "language_info": {
   "codemirror_mode": {
    "name": "ipython",
    "version": 3
   },
   "file_extension": ".py",
   "mimetype": "text/x-python",
   "name": "python",
   "nbconvert_exporter": "python",
   "pygments_lexer": "ipython3",
   "version": "3.6.5"
  }
 },
 "nbformat": 4,
 "nbformat_minor": 2
}
